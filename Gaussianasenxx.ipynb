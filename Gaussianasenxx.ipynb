{
 "cells": [
  {
   "cell_type": "code",
   "execution_count": 12,
   "id": "8b474db3-c5e4-4cb5-99e1-2b65d76e4a92",
   "metadata": {},
   "outputs": [],
   "source": [
    "from scipy.special import legendre\n",
    "import matplotlib.pyplot as plt\n",
    "import numpy as np"
   ]
  },
  {
   "cell_type": "code",
   "execution_count": 13,
   "id": "dcb8fcd7-9411-4d3a-8ce4-ecc4b05e4678",
   "metadata": {},
   "outputs": [],
   "source": [
    "def gaussxw(N):\n",
    "    x, w = np.polynomial.legendre.leggauss(N)\n",
    "    \n",
    "    return x, w"
   ]
  },
  {
   "cell_type": "code",
   "execution_count": 14,
   "id": "f583cc60-7305-4008-98b8-06aa91afc5d0",
   "metadata": {},
   "outputs": [],
   "source": [
    "def gaussxwab(a, b, x, w):\n",
    "        return 0.5 * (b - a) * x + 0.5 * (b + a), 0.5 * (b - a) * w"
   ]
  },
  {
   "cell_type": "code",
   "execution_count": 15,
   "id": "8ad8c762-11ca-4305-9af7-ce530c89f73d",
   "metadata": {},
   "outputs": [
    {
     "name": "stdout",
     "output_type": "stream",
     "text": [
      "[-0.77459667  0.          0.77459667] [0.55555556 0.88888889 0.55555556]\n"
     ]
    }
   ],
   "source": [
    "x_4,w_4=gaussxw(3)"
   ]
  },
  {
   "cell_type": "code",
   "execution_count": 16,
   "id": "69213843-58cf-4bc2-a585-a2f064aa1fe7",
   "metadata": {},
   "outputs": [
    {
     "name": "stdout",
     "output_type": "stream",
     "text": [
      "[0.35406272 1.57079633 2.78752993] [0.87266463 1.3962634  0.87266463]\n"
     ]
    }
   ],
   "source": [
    "x_4,w_4=gaussxwab(0,np.pi,x_4,w_4)\n",
    "print(x_4,w_4)"
   ]
  },
  {
   "cell_type": "code",
   "execution_count": 17,
   "id": "e584c287-4b27-48d8-a5c3-33730606253a",
   "metadata": {},
   "outputs": [
    {
     "name": "stdout",
     "output_type": "stream",
     "text": [
      "1.8503636166558148\n"
     ]
    }
   ],
   "source": [
    "def func(varInd):\n",
    "    return np.sin(varInd**2)\n",
    "def integrar(func,x,w):\n",
    "    return np.sum(func(x)*w)\n",
    "print(integrar(func,x_4,w_4))"
   ]
  },
  {
   "cell_type": "code",
   "execution_count": 18,
   "id": "eacbd571-3414-493d-940d-8d591ed83915",
   "metadata": {},
   "outputs": [],
   "source": [
    "def iterar(funcGen):\n",
    "    x=[1,2,3,4,5,6,7,8,9,10]\n",
    "    y=[0]*10\n",
    "    for i in range(1,11):\n",
    "        x_4,w_4=gaussxw(i)\n",
    "        x_4,w_4=gaussxwab(0,np.pi,x_4,w_4)\n",
    "        y[i-1]=integrar(func,x_4,w_4)\n",
    "    return x,y"
   ]
  },
  {
   "cell_type": "code",
   "execution_count": 22,
   "id": "be4b9c58-b3f4-4a6d-a7ce-51b1e371a983",
   "metadata": {},
   "outputs": [
    {
     "name": "stdout",
     "output_type": "stream",
     "text": [
      "([1, 2, 3, 4, 5, 6, 7, 8, 9, 10], [1.9611893306991126, 0.4444055098839264, 1.8503636166558148, 0.3635354764094303, 0.7858090342523546, 0.7886218902294921, 0.7702887018119796, 0.7725895134091216, 0.7726873847372616, 0.7726500262612431])\n"
     ]
    },
    {
     "data": {
      "image/png": "[encoded data removed]",
      "text/plain": [
       "<Figure size 640x480 with 1 Axes>"
      ]
     },
     "metadata": {},
     "output_type": "display_data"
    }
   ],
   "source": [
    "datos= iterar(func)\n",
    "print(datos)\n",
    "plt.plot(datos[0], datos[1], 'o')\n",
    "plt.xlabel(\"Valores N\")\n",
    "plt.ylabel(\"Valores I\")\n",
    "plt.show()"
   ]
  },
  {
   "cell_type": "code",
   "execution_count": null,
   "id": "3fcd72e6-0b06-4329-8565-55b8983ecbd7",
   "metadata": {},
   "outputs": [],
   "source": []
  },
  {
   "cell_type": "code",
   "execution_count": null,
   "id": "fe04b47e",
   "metadata": {},
   "outputs": [],
   "source": []
  }
 ],
 "metadata": {
  "kernelspec": {
   "display_name": "Python 3 (ipykernel)",
   "language": "python",
   "name": "python3"
  },
  "language_info": {
   "codemirror_mode": {
    "name": "ipython",
    "version": 3
   },
   "file_extension": ".py",
   "mimetype": "text/x-python",
   "name": "python",
   "nbconvert_exporter": "python",
   "pygments_lexer": "ipython3",
   "version": "3.12.3"
  }
 },
 "nbformat": 4,
 "nbformat_minor": 5
}
